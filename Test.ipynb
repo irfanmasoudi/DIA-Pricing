{
 "cells": [
  {
   "cell_type": "code",
   "execution_count": 1,
   "id": "ec4bc226",
   "metadata": {},
   "outputs": [],
   "source": [
    "import numpy as np"
   ]
  },
  {
   "cell_type": "code",
   "execution_count": 2,
   "id": "3f692e00",
   "metadata": {},
   "outputs": [
    {
     "output_type": "execute_result",
     "data": {
      "text/plain": [
       "array([[1., 1.],\n",
       "       [1., 1.],\n",
       "       [1., 1.],\n",
       "       [1., 1.],\n",
       "       [1., 1.]])"
      ]
     },
     "metadata": {},
     "execution_count": 2
    }
   ],
   "source": [
    "ones = np.ones((5,2))\n",
    "ones"
   ]
  },
  {
   "cell_type": "code",
   "execution_count": 3,
   "id": "2f432905",
   "metadata": {},
   "outputs": [
    {
     "output_type": "execute_result",
     "data": {
      "text/plain": [
       "2"
      ]
     },
     "metadata": {},
     "execution_count": 3
    }
   ],
   "source": [
    "randones = np.random.beta(ones[:, 0], ones[:, 1])\n",
    "idx = np.argmax(np.random.beta(ones[:, 0], ones[:, 1]))\n",
    "idx"
   ]
  },
  {
   "cell_type": "code",
   "execution_count": 5,
   "id": "6468f168",
   "metadata": {},
   "outputs": [
    {
     "output_type": "execute_result",
     "data": {
      "text/plain": [
       "2"
      ]
     },
     "metadata": {},
     "execution_count": 5
    }
   ],
   "source": [
    "pulled_arm = idx\n",
    "pulled_arm"
   ]
  },
  {
   "cell_type": "code",
   "execution_count": 6,
   "id": "5c57083e",
   "metadata": {},
   "outputs": [
    {
     "output_type": "execute_result",
     "data": {
      "text/plain": [
       "4"
      ]
     },
     "metadata": {},
     "execution_count": 6
    }
   ],
   "source": [
    "probabilities = np.array([0.40, 0.3, 0.1, 0.35])\n",
    "n_arms = len(probabilities)\n",
    "n_arms"
   ]
  },
  {
   "cell_type": "code",
   "execution_count": 22,
   "id": "a1c6a87c",
   "metadata": {},
   "outputs": [
    {
     "output_type": "execute_result",
     "data": {
      "text/plain": [
       "1"
      ]
     },
     "metadata": {},
     "execution_count": 22
    }
   ],
   "source": [
    "reward = np.random.binomial(1, probabilities[pulled_arm])\n",
    "reward"
   ]
  },
  {
   "cell_type": "code",
   "execution_count": 23,
   "id": "5cc4f10e",
   "metadata": {},
   "outputs": [
    {
     "output_type": "execute_result",
     "data": {
      "text/plain": [
       "array([0., 0., 0., 0.])"
      ]
     },
     "metadata": {},
     "execution_count": 23
    }
   ],
   "source": [
    "empirical_means = np.zeros(n_arms)\n",
    "empirical_means"
   ]
  },
  {
   "cell_type": "code",
   "execution_count": 24,
   "id": "6e9b2111",
   "metadata": {},
   "outputs": [
    {
     "output_type": "execute_result",
     "data": {
      "text/plain": [
       "array([inf, inf, inf, inf])"
      ]
     },
     "metadata": {},
     "execution_count": 24
    }
   ],
   "source": [
    "confidence = np.array([np.inf]*n_arms)\n",
    "confidence"
   ]
  },
  {
   "cell_type": "code",
   "execution_count": 30,
   "id": "c8dd9b5b",
   "metadata": {},
   "outputs": [
    {
     "output_type": "execute_result",
     "data": {
      "text/plain": [
       "array([0.8147875 , 0.30521836, 0.86537789, 0.02621889, 0.56037892])"
      ]
     },
     "metadata": {},
     "execution_count": 30
    }
   ],
   "source": [
    "randbeta = np.random.beta(ones[:, 0], ones[:, 1])\n",
    "randbeta"
   ]
  },
  {
   "cell_type": "code",
   "execution_count": 31,
   "metadata": {},
   "outputs": [
    {
     "output_type": "execute_result",
     "data": {
      "text/plain": [
       "2"
      ]
     },
     "metadata": {},
     "execution_count": 31
    }
   ],
   "source": [
    "idx = np.argmax(randbeta)\n",
    "idx"
   ]
  },
  {
   "cell_type": "code",
   "execution_count": null,
   "metadata": {},
   "outputs": [],
   "source": []
  }
 ],
 "metadata": {
  "kernelspec": {
   "name": "python388jvsc74a57bd054a482d7dbb5798642c3195f3e0aa76e8c40ece0d4932de17666fd538e8d8b9e",
   "display_name": "Python 3.8.8 64-bit ('DIA': conda)"
  },
  "language_info": {
   "codemirror_mode": {
    "name": "ipython",
    "version": 3
   },
   "file_extension": ".py",
   "mimetype": "text/x-python",
   "name": "python",
   "nbconvert_exporter": "python",
   "pygments_lexer": "ipython3",
   "version": "3.8.8"
  }
 },
 "nbformat": 4,
 "nbformat_minor": 5
}